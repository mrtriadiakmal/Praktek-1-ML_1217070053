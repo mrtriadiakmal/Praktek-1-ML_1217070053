{
  "cells": [
    {
      "cell_type": "code",
      "execution_count": 1,
      "metadata": {
        "colab": {
          "base_uri": "https://localhost:8080/"
        },
        "id": "nSfZ2blDBwR9",
        "outputId": "37c8116d-ec8e-4568-a4c2-8cf274e18270"
      },
      "outputs": [
        {
          "name": "stdout",
          "output_type": "stream",
          "text": [
            "Collecting nltk\n",
            "  Using cached nltk-3.9.1-py3-none-any.whl.metadata (2.9 kB)\n",
            "Requirement already satisfied: click in c:\\users\\ade ira\\tutorialflask\\.venv\\lib\\site-packages (from nltk) (8.1.7)\n",
            "Requirement already satisfied: joblib in c:\\users\\ade ira\\tutorialflask\\.venv\\lib\\site-packages (from nltk) (1.4.2)\n",
            "Collecting regex>=2021.8.3 (from nltk)\n",
            "  Using cached regex-2024.9.11-cp313-cp313-win_amd64.whl.metadata (41 kB)\n",
            "Collecting tqdm (from nltk)\n",
            "  Using cached tqdm-4.66.5-py3-none-any.whl.metadata (57 kB)\n",
            "Requirement already satisfied: colorama in c:\\users\\ade ira\\tutorialflask\\.venv\\lib\\site-packages (from click->nltk) (0.4.6)\n",
            "Using cached nltk-3.9.1-py3-none-any.whl (1.5 MB)\n",
            "Using cached regex-2024.9.11-cp313-cp313-win_amd64.whl (273 kB)\n",
            "Using cached tqdm-4.66.5-py3-none-any.whl (78 kB)\n",
            "Installing collected packages: tqdm, regex, nltk\n",
            "Successfully installed nltk-3.9.1 regex-2024.9.11 tqdm-4.66.5\n"
          ]
        }
      ],
      "source": [
        "!pip install nltk"
      ]
    },
    {
      "cell_type": "code",
      "execution_count": 2,
      "metadata": {
        "id": "5dtjGOp0BwSG"
      },
      "outputs": [],
      "source": [
        "import nltk"
      ]
    },
    {
      "cell_type": "code",
      "execution_count": 3,
      "metadata": {
        "colab": {
          "base_uri": "https://localhost:8080/"
        },
        "id": "EPBH7BFkBwSH",
        "outputId": "7a3df48d-00a7-4d16-a0b1-d5873376bfe3"
      },
      "outputs": [
        {
          "name": "stderr",
          "output_type": "stream",
          "text": [
            "[nltk_data] Downloading package punkt to C:\\Users\\Ade\n",
            "[nltk_data]     Ira\\AppData\\Roaming\\nltk_data...\n",
            "[nltk_data]   Package punkt is already up-to-date!\n"
          ]
        },
        {
          "data": {
            "text/plain": [
              "True"
            ]
          },
          "execution_count": 3,
          "metadata": {},
          "output_type": "execute_result"
        }
      ],
      "source": [
        "nltk.download('punkt')"
      ]
    },
    {
      "cell_type": "code",
      "execution_count": 4,
      "metadata": {
        "id": "LebFH0Y3BwSI"
      },
      "outputs": [],
      "source": [
        "import pandas as pd\n",
        "import numpy as np\n",
        "from nltk.corpus import stopwords\n",
        "from nltk import ngrams\n",
        "from nltk import word_tokenize\n",
        "import string\n",
        "from sklearn.feature_extraction.text import TfidfVectorizer\n",
        "from sklearn import svm\n",
        "from sklearn.model_selection import train_test_split\n",
        "from sklearn.naive_bayes import MultinomialNB\n",
        "from nltk.stem import PorterStemmer\n",
        "from sklearn import metrics"
      ]
    },
    {
      "cell_type": "code",
      "execution_count": 10,
      "metadata": {
        "colab": {
          "base_uri": "https://localhost:8080/"
        },
        "id": "WQTqLg2ZBwSK",
        "outputId": "c879195a-86de-49f7-8ba8-41d5ee988aa3"
      },
      "outputs": [
        {
          "ename": "FileNotFoundError",
          "evalue": "[Errno 2] No such file or directory: 'C:/Users/Ade ira/OneDrive/Documents/Perkuliahan/Semester 7/Machine Learning/Praktikum 1/ISEAR.csv'",
          "output_type": "error",
          "traceback": [
            "\u001b[1;31m---------------------------------------------------------------------------\u001b[0m",
            "\u001b[1;31mFileNotFoundError\u001b[0m                         Traceback (most recent call last)",
            "Cell \u001b[1;32mIn[10], line 1\u001b[0m\n\u001b[1;32m----> 1\u001b[0m df \u001b[39m=\u001b[39m pd\u001b[39m.\u001b[39;49mread_csv(\u001b[39m\"\u001b[39;49m\u001b[39mC:/Users/Ade ira/OneDrive/Documents/Perkuliahan/Semester 7/Machine Learning/Praktikum 1/ISEAR.csv\u001b[39;49m\u001b[39m\"\u001b[39;49m,header\u001b[39m=\u001b[39;49m\u001b[39mNone\u001b[39;49;00m)\n\u001b[0;32m      3\u001b[0m df\u001b[39m.\u001b[39mhead()\n",
            "File \u001b[1;32mc:\\Users\\Ade Ira\\tutorialFlask\\.venv\\Lib\\site-packages\\pandas\\io\\parsers\\readers.py:1026\u001b[0m, in \u001b[0;36mread_csv\u001b[1;34m(filepath_or_buffer, sep, delimiter, header, names, index_col, usecols, dtype, engine, converters, true_values, false_values, skipinitialspace, skiprows, skipfooter, nrows, na_values, keep_default_na, na_filter, verbose, skip_blank_lines, parse_dates, infer_datetime_format, keep_date_col, date_parser, date_format, dayfirst, cache_dates, iterator, chunksize, compression, thousands, decimal, lineterminator, quotechar, quoting, doublequote, escapechar, comment, encoding, encoding_errors, dialect, on_bad_lines, delim_whitespace, low_memory, memory_map, float_precision, storage_options, dtype_backend)\u001b[0m\n\u001b[0;32m   1013\u001b[0m kwds_defaults \u001b[39m=\u001b[39m _refine_defaults_read(\n\u001b[0;32m   1014\u001b[0m     dialect,\n\u001b[0;32m   1015\u001b[0m     delimiter,\n\u001b[1;32m   (...)\u001b[0m\n\u001b[0;32m   1022\u001b[0m     dtype_backend\u001b[39m=\u001b[39mdtype_backend,\n\u001b[0;32m   1023\u001b[0m )\n\u001b[0;32m   1024\u001b[0m kwds\u001b[39m.\u001b[39mupdate(kwds_defaults)\n\u001b[1;32m-> 1026\u001b[0m \u001b[39mreturn\u001b[39;00m _read(filepath_or_buffer, kwds)\n",
            "File \u001b[1;32mc:\\Users\\Ade Ira\\tutorialFlask\\.venv\\Lib\\site-packages\\pandas\\io\\parsers\\readers.py:620\u001b[0m, in \u001b[0;36m_read\u001b[1;34m(filepath_or_buffer, kwds)\u001b[0m\n\u001b[0;32m    617\u001b[0m _validate_names(kwds\u001b[39m.\u001b[39mget(\u001b[39m\"\u001b[39m\u001b[39mnames\u001b[39m\u001b[39m\"\u001b[39m, \u001b[39mNone\u001b[39;00m))\n\u001b[0;32m    619\u001b[0m \u001b[39m# Create the parser.\u001b[39;00m\n\u001b[1;32m--> 620\u001b[0m parser \u001b[39m=\u001b[39m TextFileReader(filepath_or_buffer, \u001b[39m*\u001b[39;49m\u001b[39m*\u001b[39;49mkwds)\n\u001b[0;32m    622\u001b[0m \u001b[39mif\u001b[39;00m chunksize \u001b[39mor\u001b[39;00m iterator:\n\u001b[0;32m    623\u001b[0m     \u001b[39mreturn\u001b[39;00m parser\n",
            "File \u001b[1;32mc:\\Users\\Ade Ira\\tutorialFlask\\.venv\\Lib\\site-packages\\pandas\\io\\parsers\\readers.py:1620\u001b[0m, in \u001b[0;36mTextFileReader.__init__\u001b[1;34m(self, f, engine, **kwds)\u001b[0m\n\u001b[0;32m   1617\u001b[0m     \u001b[39mself\u001b[39m\u001b[39m.\u001b[39moptions[\u001b[39m\"\u001b[39m\u001b[39mhas_index_names\u001b[39m\u001b[39m\"\u001b[39m] \u001b[39m=\u001b[39m kwds[\u001b[39m\"\u001b[39m\u001b[39mhas_index_names\u001b[39m\u001b[39m\"\u001b[39m]\n\u001b[0;32m   1619\u001b[0m \u001b[39mself\u001b[39m\u001b[39m.\u001b[39mhandles: IOHandles \u001b[39m|\u001b[39m \u001b[39mNone\u001b[39;00m \u001b[39m=\u001b[39m \u001b[39mNone\u001b[39;00m\n\u001b[1;32m-> 1620\u001b[0m \u001b[39mself\u001b[39m\u001b[39m.\u001b[39m_engine \u001b[39m=\u001b[39m \u001b[39mself\u001b[39;49m\u001b[39m.\u001b[39;49m_make_engine(f, \u001b[39mself\u001b[39;49m\u001b[39m.\u001b[39;49mengine)\n",
            "File \u001b[1;32mc:\\Users\\Ade Ira\\tutorialFlask\\.venv\\Lib\\site-packages\\pandas\\io\\parsers\\readers.py:1880\u001b[0m, in \u001b[0;36mTextFileReader._make_engine\u001b[1;34m(self, f, engine)\u001b[0m\n\u001b[0;32m   1878\u001b[0m     \u001b[39mif\u001b[39;00m \u001b[39m\"\u001b[39m\u001b[39mb\u001b[39m\u001b[39m\"\u001b[39m \u001b[39mnot\u001b[39;00m \u001b[39min\u001b[39;00m mode:\n\u001b[0;32m   1879\u001b[0m         mode \u001b[39m+\u001b[39m\u001b[39m=\u001b[39m \u001b[39m\"\u001b[39m\u001b[39mb\u001b[39m\u001b[39m\"\u001b[39m\n\u001b[1;32m-> 1880\u001b[0m \u001b[39mself\u001b[39m\u001b[39m.\u001b[39mhandles \u001b[39m=\u001b[39m get_handle(\n\u001b[0;32m   1881\u001b[0m     f,\n\u001b[0;32m   1882\u001b[0m     mode,\n\u001b[0;32m   1883\u001b[0m     encoding\u001b[39m=\u001b[39;49m\u001b[39mself\u001b[39;49m\u001b[39m.\u001b[39;49moptions\u001b[39m.\u001b[39;49mget(\u001b[39m\"\u001b[39;49m\u001b[39mencoding\u001b[39;49m\u001b[39m\"\u001b[39;49m, \u001b[39mNone\u001b[39;49;00m),\n\u001b[0;32m   1884\u001b[0m     compression\u001b[39m=\u001b[39;49m\u001b[39mself\u001b[39;49m\u001b[39m.\u001b[39;49moptions\u001b[39m.\u001b[39;49mget(\u001b[39m\"\u001b[39;49m\u001b[39mcompression\u001b[39;49m\u001b[39m\"\u001b[39;49m, \u001b[39mNone\u001b[39;49;00m),\n\u001b[0;32m   1885\u001b[0m     memory_map\u001b[39m=\u001b[39;49m\u001b[39mself\u001b[39;49m\u001b[39m.\u001b[39;49moptions\u001b[39m.\u001b[39;49mget(\u001b[39m\"\u001b[39;49m\u001b[39mmemory_map\u001b[39;49m\u001b[39m\"\u001b[39;49m, \u001b[39mFalse\u001b[39;49;00m),\n\u001b[0;32m   1886\u001b[0m     is_text\u001b[39m=\u001b[39;49mis_text,\n\u001b[0;32m   1887\u001b[0m     errors\u001b[39m=\u001b[39;49m\u001b[39mself\u001b[39;49m\u001b[39m.\u001b[39;49moptions\u001b[39m.\u001b[39;49mget(\u001b[39m\"\u001b[39;49m\u001b[39mencoding_errors\u001b[39;49m\u001b[39m\"\u001b[39;49m, \u001b[39m\"\u001b[39;49m\u001b[39mstrict\u001b[39;49m\u001b[39m\"\u001b[39;49m),\n\u001b[0;32m   1888\u001b[0m     storage_options\u001b[39m=\u001b[39;49m\u001b[39mself\u001b[39;49m\u001b[39m.\u001b[39;49moptions\u001b[39m.\u001b[39;49mget(\u001b[39m\"\u001b[39;49m\u001b[39mstorage_options\u001b[39;49m\u001b[39m\"\u001b[39;49m, \u001b[39mNone\u001b[39;49;00m),\n\u001b[0;32m   1889\u001b[0m )\n\u001b[0;32m   1890\u001b[0m \u001b[39massert\u001b[39;00m \u001b[39mself\u001b[39m\u001b[39m.\u001b[39mhandles \u001b[39mis\u001b[39;00m \u001b[39mnot\u001b[39;00m \u001b[39mNone\u001b[39;00m\n\u001b[0;32m   1891\u001b[0m f \u001b[39m=\u001b[39m \u001b[39mself\u001b[39m\u001b[39m.\u001b[39mhandles\u001b[39m.\u001b[39mhandle\n",
            "File \u001b[1;32mc:\\Users\\Ade Ira\\tutorialFlask\\.venv\\Lib\\site-packages\\pandas\\io\\common.py:873\u001b[0m, in \u001b[0;36mget_handle\u001b[1;34m(path_or_buf, mode, encoding, compression, memory_map, is_text, errors, storage_options)\u001b[0m\n\u001b[0;32m    868\u001b[0m \u001b[39melif\u001b[39;00m \u001b[39misinstance\u001b[39m(handle, \u001b[39mstr\u001b[39m):\n\u001b[0;32m    869\u001b[0m     \u001b[39m# Check whether the filename is to be opened in binary mode.\u001b[39;00m\n\u001b[0;32m    870\u001b[0m     \u001b[39m# Binary mode does not support 'encoding' and 'newline'.\u001b[39;00m\n\u001b[0;32m    871\u001b[0m     \u001b[39mif\u001b[39;00m ioargs\u001b[39m.\u001b[39mencoding \u001b[39mand\u001b[39;00m \u001b[39m\"\u001b[39m\u001b[39mb\u001b[39m\u001b[39m\"\u001b[39m \u001b[39mnot\u001b[39;00m \u001b[39min\u001b[39;00m ioargs\u001b[39m.\u001b[39mmode:\n\u001b[0;32m    872\u001b[0m         \u001b[39m# Encoding\u001b[39;00m\n\u001b[1;32m--> 873\u001b[0m         handle \u001b[39m=\u001b[39m \u001b[39mopen\u001b[39;49m(\n\u001b[0;32m    874\u001b[0m             handle,\n\u001b[0;32m    875\u001b[0m             ioargs\u001b[39m.\u001b[39;49mmode,\n\u001b[0;32m    876\u001b[0m             encoding\u001b[39m=\u001b[39;49mioargs\u001b[39m.\u001b[39;49mencoding,\n\u001b[0;32m    877\u001b[0m             errors\u001b[39m=\u001b[39;49merrors,\n\u001b[0;32m    878\u001b[0m             newline\u001b[39m=\u001b[39;49m\u001b[39m\"\u001b[39;49m\u001b[39m\"\u001b[39;49m,\n\u001b[0;32m    879\u001b[0m         )\n\u001b[0;32m    880\u001b[0m     \u001b[39melse\u001b[39;00m:\n\u001b[0;32m    881\u001b[0m         \u001b[39m# Binary mode\u001b[39;00m\n\u001b[0;32m    882\u001b[0m         handle \u001b[39m=\u001b[39m \u001b[39mopen\u001b[39m(handle, ioargs\u001b[39m.\u001b[39mmode)\n",
            "\u001b[1;31mFileNotFoundError\u001b[0m: [Errno 2] No such file or directory: 'C:/Users/Ade ira/OneDrive/Documents/Perkuliahan/Semester 7/Machine Learning/Praktikum 1/ISEAR.csv'"
          ]
        }
      ],
      "source": [
        "df = pd.read_csv(\"C:/Users/Ade ira/OneDrive/Documents/Perkuliahan/Semester 7/Machine Learning/Praktikum 1/Bahan data/ISEAR.csv\",header=None)\n",
        "\n",
        "df.head()"
      ]
    },
    {
      "cell_type": "code",
      "execution_count": null,
      "metadata": {
        "colab": {
          "base_uri": "https://localhost:8080/",
          "height": 206
        },
        "id": "3tG3FFwkBwSM",
        "outputId": "18d44d03-f370-4b2c-c684-508be2c0320f"
      },
      "outputs": [
        {
          "data": {
            "text/html": [
              "<div>\n",
              "<style scoped>\n",
              "    .dataframe tbody tr th:only-of-type {\n",
              "        vertical-align: middle;\n",
              "    }\n",
              "\n",
              "    .dataframe tbody tr th {\n",
              "        vertical-align: top;\n",
              "    }\n",
              "\n",
              "    .dataframe thead th {\n",
              "        text-align: right;\n",
              "    }\n",
              "</style>\n",
              "<table border=\"1\" class=\"dataframe\">\n",
              "  <thead>\n",
              "    <tr style=\"text-align: right;\">\n",
              "      <th></th>\n",
              "      <th>Emotion</th>\n",
              "      <th>Text</th>\n",
              "    </tr>\n",
              "  </thead>\n",
              "  <tbody>\n",
              "    <tr>\n",
              "      <th>0</th>\n",
              "      <td>joy</td>\n",
              "      <td>On days when I feel close to my partner and ot...</td>\n",
              "    </tr>\n",
              "    <tr>\n",
              "      <th>1</th>\n",
              "      <td>fear</td>\n",
              "      <td>Every time I imagine that someone I love or I ...</td>\n",
              "    </tr>\n",
              "    <tr>\n",
              "      <th>2</th>\n",
              "      <td>anger</td>\n",
              "      <td>When I had been obviously unjustly treated and...</td>\n",
              "    </tr>\n",
              "    <tr>\n",
              "      <th>3</th>\n",
              "      <td>sadness</td>\n",
              "      <td>When I think about the short time that we live...</td>\n",
              "    </tr>\n",
              "    <tr>\n",
              "      <th>4</th>\n",
              "      <td>disgust</td>\n",
              "      <td>At a gathering I found myself involuntarily si...</td>\n",
              "    </tr>\n",
              "  </tbody>\n",
              "</table>\n",
              "</div>"
            ],
            "text/plain": [
              "   Emotion                                               Text\n",
              "0      joy  On days when I feel close to my partner and ot...\n",
              "1     fear  Every time I imagine that someone I love or I ...\n",
              "2    anger  When I had been obviously unjustly treated and...\n",
              "3  sadness  When I think about the short time that we live...\n",
              "4  disgust  At a gathering I found myself involuntarily si..."
            ]
          },
          "execution_count": 148,
          "metadata": {},
          "output_type": "execute_result"
        }
      ],
      "source": [
        "col = [0,1]\n",
        "new_df = df [col ]\n",
        "new_df = new_df [pd. notnull(df [1])]\n",
        "new_df . columns = ['Emotion', 'Text']\n",
        "new_df. head()"
      ]
    },
    {
      "cell_type": "code",
      "execution_count": null,
      "metadata": {
        "colab": {
          "base_uri": "https://localhost:8080/",
          "height": 584
        },
        "id": "bh4C3W-vBwSN",
        "outputId": "e8009054-74cd-4f1d-a23b-ddf3468ca934"
      },
      "outputs": [
        {
          "data": {
            "image/png": "[encoded data removed]",
            "text/plain": [
              "<Figure size 800x600 with 1 Axes>"
            ]
          },
          "metadata": {},
          "output_type": "display_data"
        }
      ],
      "source": [
        "import matplotlib.pyplot as plt\n",
        "fig = plt.figure(figsize=(8,6))\n",
        "new_df.groupby( 'Emotion' ) . Text. count().plot. bar(ylim=0)\n",
        "plt. show( )"
      ]
    },
    {
      "cell_type": "code",
      "execution_count": null,
      "metadata": {
        "colab": {
          "base_uri": "https://localhost:8080/",
          "height": 458
        },
        "id": "6t35nPkdBwSO",
        "outputId": "59e2d359-d5e7-4068-ed58-90052ff3b2fe"
      },
      "outputs": [
        {
          "data": {
            "text/plain": [
              "0           joy\n",
              "1          fear\n",
              "2         anger\n",
              "3       sadness\n",
              "4       disgust\n",
              "         ...   \n",
              "7511      shame\n",
              "7512      shame\n",
              "7513       fear\n",
              "7514      guilt\n",
              "7515       fear\n",
              "Name: Emotion, Length: 7516, dtype: object"
            ]
          },
          "execution_count": 150,
          "metadata": {},
          "output_type": "execute_result"
        }
      ],
      "source": [
        "new_df['Text']\n",
        "new_df['Emotion']"
      ]
    },
    {
      "cell_type": "code",
      "execution_count": null,
      "metadata": {
        "id": "xLEr5EvHBwSP"
      },
      "outputs": [],
      "source": [
        "def getTokenizedList(input_df):\n",
        "    tokenizedList=[]\n",
        "    for i in range(0, len(input_df)):\n",
        "        curText = input_df['Text'].iloc[i]\n",
        "        curText = curText.replace('\\n','')\n",
        "        curTokenized=word_tokenize(curText)\n",
        "        tokenizedList.append(curTokenized)\n",
        "    #print(tokenizedList)\n",
        "\n",
        "    tokenziedListWithoutPunct=[]\n",
        "    punctList=list(string.punctuation)\n",
        "    for i in range(0, len(tokenizedList)):\n",
        "        curList=tokenizedList[i]\n",
        "        newList=[] #list without stopwords\n",
        "        for word in curList:\n",
        "            if (word.lower() not in punctList):\n",
        "                newList.append(word.lower())\n",
        "        tokenziedListWithoutPunct.append(newList)\n",
        "\n",
        "    #print(tokenziedListWithoutPunct)\n",
        "#Stemming\n",
        "    mystemmer=PorterStemmer()\n",
        "    tokenziedStemmed=[]\n",
        "    for i in range(0,len(tokenziedListWithoutPunct)):\n",
        "        curList=tokenziedListWithoutPunct[i]\n",
        "        newList=[]\n",
        "        for word in curList:\n",
        "            newList.append(mystemmer.stem(word))\n",
        "        tokenziedStemmed.append(newList)\n",
        "    return tokenziedStemmed"
      ]
    },
    {
      "cell_type": "code",
      "execution_count": null,
      "metadata": {
        "id": "WtCZph39BwSR"
      },
      "outputs": [],
      "source": [
        "def transformSentence(sent):\n",
        "    s = []\n",
        "    sent=sent.replace('\\n','')\n",
        "    sentTokenized=word_tokenize(sent)\n",
        "    s.append (sentTokenized)\n",
        "    sWithoutPunct = []\n",
        "    punctList = list(string.punctuation)\n",
        "    curSentList = s[0]\n",
        "    newSentList = []\n",
        "    for word in curSentList:\n",
        "        if (word.lower() not in punctList):\n",
        "            newSentList.append(word.lower())\n",
        "    sWithoutPunct.append(newSentList)\n",
        "    mystemmer = PorterStemmer()\n",
        "    tokenziedStemmed = []\n",
        "    for i in range(0,len(sWithoutPunct)):\n",
        "        curList=sWithoutPunct[i]\n",
        "        newList=[]\n",
        "        for word in curList:\n",
        "            newList.append(mystemmer.stem(word))\n",
        "        tokenziedStemmed.append(newList)\n",
        "    return tokenziedStemmed"
      ]
    },
    {
      "cell_type": "code",
      "execution_count": null,
      "metadata": {
        "colab": {
          "base_uri": "https://localhost:8080/"
        },
        "id": "L--UXAVsBwST",
        "outputId": "78452bde-7044-44b4-ae51-f2fb6780bd8a"
      },
      "outputs": [
        {
          "name": "stderr",
          "output_type": "stream",
          "text": [
            "<frozen runpy>:128: RuntimeWarning: 'nltk.downloader' found in sys.modules after import of package 'nltk', but prior to execution of 'nltk.downloader'; this may result in unpredictable behaviour\n",
            "[nltk_data] Downloading package punkt to C:\\Users\\Zul Fikri Hamdi A\n",
            "[nltk_data]     N\\AppData\\Roaming\\nltk_data...\n",
            "[nltk_data]   Package punkt is already up-to-date!\n"
          ]
        }
      ],
      "source": [
        "!python -m nltk.downloader punkt"
      ]
    },
    {
      "cell_type": "code",
      "execution_count": null,
      "metadata": {
        "colab": {
          "base_uri": "https://localhost:8080/"
        },
        "collapsed": true,
        "id": "Tc4X4BXvBwSW",
        "outputId": "d2e4a5a4-559c-44d6-87ca-2c114f775ee2"
      },
      "outputs": [
        {
          "name": "stderr",
          "output_type": "stream",
          "text": [
            "[nltk_data] Downloading collection 'all'\n",
            "[nltk_data]    | \n",
            "[nltk_data]    | Downloading package abc to C:\\Users\\Zul Fikri Hamdi A\n",
            "[nltk_data]    |     N\\AppData\\Roaming\\nltk_data...\n",
            "[nltk_data]    |   Package abc is already up-to-date!\n",
            "[nltk_data]    | Downloading package alpino to C:\\Users\\Zul Fikri\n",
            "[nltk_data]    |     Hamdi A N\\AppData\\Roaming\\nltk_data...\n",
            "[nltk_data]    |   Package alpino is already up-to-date!\n",
            "[nltk_data]    | Downloading package averaged_perceptron_tagger to\n",
            "[nltk_data]    |     C:\\Users\\Zul Fikri Hamdi A\n",
            "[nltk_data]    |     N\\AppData\\Roaming\\nltk_data...\n",
            "[nltk_data]    |   Package averaged_perceptron_tagger is already up-\n",
            "[nltk_data]    |       to-date!\n",
            "[nltk_data]    | Downloading package averaged_perceptron_tagger_eng to\n",
            "[nltk_data]    |     C:\\Users\\Zul Fikri Hamdi A\n",
            "[nltk_data]    |     N\\AppData\\Roaming\\nltk_data...\n",
            "[nltk_data]    |   Package averaged_perceptron_tagger_eng is already\n",
            "[nltk_data]    |       up-to-date!\n",
            "[nltk_data]    | Downloading package averaged_perceptron_tagger_ru to\n",
            "[nltk_data]    |     C:\\Users\\Zul Fikri Hamdi A\n",
            "[nltk_data]    |     N\\AppData\\Roaming\\nltk_data...\n",
            "[nltk_data]    |   Package averaged_perceptron_tagger_ru is already\n",
            "[nltk_data]    |       up-to-date!\n",
            "[nltk_data]    | Downloading package averaged_perceptron_tagger_rus to\n",
            "[nltk_data]    |     C:\\Users\\Zul Fikri Hamdi A\n",
            "[nltk_data]    |     N\\AppData\\Roaming\\nltk_data...\n",
            "[nltk_data]    |   Package averaged_perceptron_tagger_rus is already\n",
            "[nltk_data]    |       up-to-date!\n",
            "[nltk_data]    | Downloading package basque_grammars to C:\\Users\\Zul\n",
            "[nltk_data]    |     Fikri Hamdi A N\\AppData\\Roaming\\nltk_data...\n",
            "[nltk_data]    |   Package basque_grammars is already up-to-date!\n",
            "[nltk_data]    | Downloading package bcp47 to C:\\Users\\Zul Fikri Hamdi\n",
            "[nltk_data]    |     A N\\AppData\\Roaming\\nltk_data...\n",
            "[nltk_data]    |   Package bcp47 is already up-to-date!\n",
            "[nltk_data]    | Downloading package biocreative_ppi to C:\\Users\\Zul\n",
            "[nltk_data]    |     Fikri Hamdi A N\\AppData\\Roaming\\nltk_data...\n",
            "[nltk_data]    |   Package biocreative_ppi is already up-to-date!\n",
            "[nltk_data]    | Downloading package bllip_wsj_no_aux to C:\\Users\\Zul\n",
            "[nltk_data]    |     Fikri Hamdi A N\\AppData\\Roaming\\nltk_data...\n",
            "[nltk_data]    |   Package bllip_wsj_no_aux is already up-to-date!\n",
            "[nltk_data]    | Downloading package book_grammars to C:\\Users\\Zul\n",
            "[nltk_data]    |     Fikri Hamdi A N\\AppData\\Roaming\\nltk_data...\n",
            "[nltk_data]    |   Package book_grammars is already up-to-date!\n",
            "[nltk_data]    | Downloading package brown to C:\\Users\\Zul Fikri Hamdi\n",
            "[nltk_data]    |     A N\\AppData\\Roaming\\nltk_data...\n",
            "[nltk_data]    |   Package brown is already up-to-date!\n",
            "[nltk_data]    | Downloading package brown_tei to C:\\Users\\Zul Fikri\n",
            "[nltk_data]    |     Hamdi A N\\AppData\\Roaming\\nltk_data...\n",
            "[nltk_data]    |   Package brown_tei is already up-to-date!\n",
            "[nltk_data]    | Downloading package cess_cat to C:\\Users\\Zul Fikri\n",
            "[nltk_data]    |     Hamdi A N\\AppData\\Roaming\\nltk_data...\n",
            "[nltk_data]    |   Package cess_cat is already up-to-date!\n",
            "[nltk_data]    | Downloading package cess_esp to C:\\Users\\Zul Fikri\n",
            "[nltk_data]    |     Hamdi A N\\AppData\\Roaming\\nltk_data...\n",
            "[nltk_data]    |   Package cess_esp is already up-to-date!\n",
            "[nltk_data]    | Downloading package chat80 to C:\\Users\\Zul Fikri\n",
            "[nltk_data]    |     Hamdi A N\\AppData\\Roaming\\nltk_data...\n",
            "[nltk_data]    |   Package chat80 is already up-to-date!\n",
            "[nltk_data]    | Downloading package city_database to C:\\Users\\Zul\n",
            "[nltk_data]    |     Fikri Hamdi A N\\AppData\\Roaming\\nltk_data...\n",
            "[nltk_data]    |   Package city_database is already up-to-date!\n",
            "[nltk_data]    | Downloading package cmudict to C:\\Users\\Zul Fikri\n",
            "[nltk_data]    |     Hamdi A N\\AppData\\Roaming\\nltk_data...\n",
            "[nltk_data]    |   Package cmudict is already up-to-date!\n",
            "[nltk_data]    | Downloading package comparative_sentences to\n",
            "[nltk_data]    |     C:\\Users\\Zul Fikri Hamdi A\n",
            "[nltk_data]    |     N\\AppData\\Roaming\\nltk_data...\n",
            "[nltk_data]    |   Package comparative_sentences is already up-to-\n",
            "[nltk_data]    |       date!\n",
            "[nltk_data]    | Downloading package comtrans to C:\\Users\\Zul Fikri\n",
            "[nltk_data]    |     Hamdi A N\\AppData\\Roaming\\nltk_data...\n",
            "[nltk_data]    |   Package comtrans is already up-to-date!\n",
            "[nltk_data]    | Downloading package conll2000 to C:\\Users\\Zul Fikri\n",
            "[nltk_data]    |     Hamdi A N\\AppData\\Roaming\\nltk_data...\n",
            "[nltk_data]    |   Package conll2000 is already up-to-date!\n",
            "[nltk_data]    | Downloading package conll2002 to C:\\Users\\Zul Fikri\n",
            "[nltk_data]    |     Hamdi A N\\AppData\\Roaming\\nltk_data...\n",
            "[nltk_data]    |   Package conll2002 is already up-to-date!\n",
            "[nltk_data]    | Downloading package conll2007 to C:\\Users\\Zul Fikri\n",
            "[nltk_data]    |     Hamdi A N\\AppData\\Roaming\\nltk_data...\n",
            "[nltk_data]    |   Package conll2007 is already up-to-date!\n",
            "[nltk_data]    | Downloading package crubadan to C:\\Users\\Zul Fikri\n",
            "[nltk_data]    |     Hamdi A N\\AppData\\Roaming\\nltk_data...\n",
            "[nltk_data]    |   Package crubadan is already up-to-date!\n",
            "[nltk_data]    | Downloading package dependency_treebank to\n",
            "[nltk_data]    |     C:\\Users\\Zul Fikri Hamdi A\n",
            "[nltk_data]    |     N\\AppData\\Roaming\\nltk_data...\n",
            "[nltk_data]    |   Package dependency_treebank is already up-to-date!\n",
            "[nltk_data]    | Downloading package dolch to C:\\Users\\Zul Fikri Hamdi\n",
            "[nltk_data]    |     A N\\AppData\\Roaming\\nltk_data...\n",
            "[nltk_data]    |   Package dolch is already up-to-date!\n",
            "[nltk_data]    | Downloading package europarl_raw to C:\\Users\\Zul\n",
            "[nltk_data]    |     Fikri Hamdi A N\\AppData\\Roaming\\nltk_data...\n",
            "[nltk_data]    |   Package europarl_raw is already up-to-date!\n",
            "[nltk_data]    | Downloading package extended_omw to C:\\Users\\Zul\n",
            "[nltk_data]    |     Fikri Hamdi A N\\AppData\\Roaming\\nltk_data...\n",
            "[nltk_data]    |   Package extended_omw is already up-to-date!\n",
            "[nltk_data]    | Downloading package floresta to C:\\Users\\Zul Fikri\n",
            "[nltk_data]    |     Hamdi A N\\AppData\\Roaming\\nltk_data...\n",
            "[nltk_data]    |   Package floresta is already up-to-date!\n",
            "[nltk_data]    | Downloading package framenet_v15 to C:\\Users\\Zul\n",
            "[nltk_data]    |     Fikri Hamdi A N\\AppData\\Roaming\\nltk_data...\n",
            "[nltk_data]    |   Package framenet_v15 is already up-to-date!\n",
            "[nltk_data]    | Downloading package framenet_v17 to C:\\Users\\Zul\n",
            "[nltk_data]    |     Fikri Hamdi A N\\AppData\\Roaming\\nltk_data...\n",
            "[nltk_data]    |   Package framenet_v17 is already up-to-date!\n",
            "[nltk_data]    | Downloading package gazetteers to C:\\Users\\Zul Fikri\n",
            "[nltk_data]    |     Hamdi A N\\AppData\\Roaming\\nltk_data...\n",
            "[nltk_data]    |   Package gazetteers is already up-to-date!\n",
            "[nltk_data]    | Downloading package genesis to C:\\Users\\Zul Fikri\n",
            "[nltk_data]    |     Hamdi A N\\AppData\\Roaming\\nltk_data...\n",
            "[nltk_data]    |   Package genesis is already up-to-date!\n",
            "[nltk_data]    | Downloading package gutenberg to C:\\Users\\Zul Fikri\n",
            "[nltk_data]    |     Hamdi A N\\AppData\\Roaming\\nltk_data...\n",
            "[nltk_data]    |   Package gutenberg is already up-to-date!\n",
            "[nltk_data]    | Downloading package ieer to C:\\Users\\Zul Fikri Hamdi\n",
            "[nltk_data]    |     A N\\AppData\\Roaming\\nltk_data...\n",
            "[nltk_data]    |   Package ieer is already up-to-date!\n",
            "[nltk_data]    | Downloading package inaugural to C:\\Users\\Zul Fikri\n",
            "[nltk_data]    |     Hamdi A N\\AppData\\Roaming\\nltk_data...\n",
            "[nltk_data]    |   Package inaugural is already up-to-date!\n",
            "[nltk_data]    | Downloading package indian to C:\\Users\\Zul Fikri\n",
            "[nltk_data]    |     Hamdi A N\\AppData\\Roaming\\nltk_data...\n",
            "[nltk_data]    |   Package indian is already up-to-date!\n",
            "[nltk_data]    | Downloading package jeita to C:\\Users\\Zul Fikri Hamdi\n",
            "[nltk_data]    |     A N\\AppData\\Roaming\\nltk_data...\n",
            "[nltk_data]    |   Package jeita is already up-to-date!\n",
            "[nltk_data]    | Downloading package kimmo to C:\\Users\\Zul Fikri Hamdi\n",
            "[nltk_data]    |     A N\\AppData\\Roaming\\nltk_data...\n",
            "[nltk_data]    |   Package kimmo is already up-to-date!\n",
            "[nltk_data]    | Downloading package knbc to C:\\Users\\Zul Fikri Hamdi\n",
            "[nltk_data]    |     A N\\AppData\\Roaming\\nltk_data...\n",
            "[nltk_data]    |   Package knbc is already up-to-date!\n",
            "[nltk_data]    | Downloading package large_grammars to C:\\Users\\Zul\n",
            "[nltk_data]    |     Fikri Hamdi A N\\AppData\\Roaming\\nltk_data...\n",
            "[nltk_data]    |   Package large_grammars is already up-to-date!\n",
            "[nltk_data]    | Downloading package lin_thesaurus to C:\\Users\\Zul\n",
            "[nltk_data]    |     Fikri Hamdi A N\\AppData\\Roaming\\nltk_data...\n",
            "[nltk_data]    |   Package lin_thesaurus is already up-to-date!\n",
            "[nltk_data]    | Downloading package mac_morpho to C:\\Users\\Zul Fikri\n",
            "[nltk_data]    |     Hamdi A N\\AppData\\Roaming\\nltk_data...\n",
            "[nltk_data]    |   Package mac_morpho is already up-to-date!\n",
            "[nltk_data]    | Downloading package machado to C:\\Users\\Zul Fikri\n",
            "[nltk_data]    |     Hamdi A N\\AppData\\Roaming\\nltk_data...\n",
            "[nltk_data]    |   Package machado is already up-to-date!\n",
            "[nltk_data]    | Downloading package masc_tagged to C:\\Users\\Zul Fikri\n",
            "[nltk_data]    |     Hamdi A N\\AppData\\Roaming\\nltk_data...\n",
            "[nltk_data]    |   Package masc_tagged is already up-to-date!\n",
            "[nltk_data]    | Downloading package maxent_ne_chunker to C:\\Users\\Zul\n",
            "[nltk_data]    |     Fikri Hamdi A N\\AppData\\Roaming\\nltk_data...\n",
            "[nltk_data]    |   Package maxent_ne_chunker is already up-to-date!\n",
            "[nltk_data]    | Downloading package maxent_ne_chunker_tab to\n",
            "[nltk_data]    |     C:\\Users\\Zul Fikri Hamdi A\n",
            "[nltk_data]    |     N\\AppData\\Roaming\\nltk_data...\n",
            "[nltk_data]    |   Package maxent_ne_chunker_tab is already up-to-\n",
            "[nltk_data]    |       date!\n",
            "[nltk_data]    | Downloading package maxent_treebank_pos_tagger to\n",
            "[nltk_data]    |     C:\\Users\\Zul Fikri Hamdi A\n",
            "[nltk_data]    |     N\\AppData\\Roaming\\nltk_data...\n",
            "[nltk_data]    |   Package maxent_treebank_pos_tagger is already up-\n",
            "[nltk_data]    |       to-date!\n",
            "[nltk_data]    | Downloading package maxent_treebank_pos_tagger_tab to\n",
            "[nltk_data]    |     C:\\Users\\Zul Fikri Hamdi A\n",
            "[nltk_data]    |     N\\AppData\\Roaming\\nltk_data...\n",
            "[nltk_data]    |   Package maxent_treebank_pos_tagger_tab is already\n",
            "[nltk_data]    |       up-to-date!\n",
            "[nltk_data]    | Downloading package moses_sample to C:\\Users\\Zul\n",
            "[nltk_data]    |     Fikri Hamdi A N\\AppData\\Roaming\\nltk_data...\n",
            "[nltk_data]    |   Package moses_sample is already up-to-date!\n",
            "[nltk_data]    | Downloading package movie_reviews to C:\\Users\\Zul\n",
            "[nltk_data]    |     Fikri Hamdi A N\\AppData\\Roaming\\nltk_data...\n",
            "[nltk_data]    |   Package movie_reviews is already up-to-date!\n",
            "[nltk_data]    | Downloading package mte_teip5 to C:\\Users\\Zul Fikri\n",
            "[nltk_data]    |     Hamdi A N\\AppData\\Roaming\\nltk_data...\n",
            "[nltk_data]    |   Package mte_teip5 is already up-to-date!\n",
            "[nltk_data]    | Downloading package mwa_ppdb to C:\\Users\\Zul Fikri\n",
            "[nltk_data]    |     Hamdi A N\\AppData\\Roaming\\nltk_data...\n",
            "[nltk_data]    |   Package mwa_ppdb is already up-to-date!\n",
            "[nltk_data]    | Downloading package names to C:\\Users\\Zul Fikri Hamdi\n",
            "[nltk_data]    |     A N\\AppData\\Roaming\\nltk_data...\n",
            "[nltk_data]    |   Package names is already up-to-date!\n",
            "[nltk_data]    | Downloading package nombank.1.0 to C:\\Users\\Zul Fikri\n",
            "[nltk_data]    |     Hamdi A N\\AppData\\Roaming\\nltk_data...\n",
            "[nltk_data]    |   Package nombank.1.0 is already up-to-date!\n",
            "[nltk_data]    | Downloading package nonbreaking_prefixes to\n",
            "[nltk_data]    |     C:\\Users\\Zul Fikri Hamdi A\n",
            "[nltk_data]    |     N\\AppData\\Roaming\\nltk_data...\n",
            "[nltk_data]    |   Package nonbreaking_prefixes is already up-to-date!\n",
            "[nltk_data]    | Downloading package nps_chat to C:\\Users\\Zul Fikri\n",
            "[nltk_data]    |     Hamdi A N\\AppData\\Roaming\\nltk_data...\n",
            "[nltk_data]    |   Package nps_chat is already up-to-date!\n",
            "[nltk_data]    | Downloading package omw to C:\\Users\\Zul Fikri Hamdi A\n",
            "[nltk_data]    |     N\\AppData\\Roaming\\nltk_data...\n",
            "[nltk_data]    |   Package omw is already up-to-date!\n",
            "[nltk_data]    | Downloading package omw-1.4 to C:\\Users\\Zul Fikri\n",
            "[nltk_data]    |     Hamdi A N\\AppData\\Roaming\\nltk_data...\n",
            "[nltk_data]    |   Package omw-1.4 is already up-to-date!\n",
            "[nltk_data]    | Downloading package opinion_lexicon to C:\\Users\\Zul\n",
            "[nltk_data]    |     Fikri Hamdi A N\\AppData\\Roaming\\nltk_data...\n",
            "[nltk_data]    |   Package opinion_lexicon is already up-to-date!\n",
            "[nltk_data]    | Downloading package panlex_swadesh to C:\\Users\\Zul\n",
            "[nltk_data]    |     Fikri Hamdi A N\\AppData\\Roaming\\nltk_data...\n",
            "[nltk_data]    |   Package panlex_swadesh is already up-to-date!\n",
            "[nltk_data]    | Downloading package paradigms to C:\\Users\\Zul Fikri\n",
            "[nltk_data]    |     Hamdi A N\\AppData\\Roaming\\nltk_data...\n",
            "[nltk_data]    |   Package paradigms is already up-to-date!\n",
            "[nltk_data]    | Downloading package pe08 to C:\\Users\\Zul Fikri Hamdi\n",
            "[nltk_data]    |     A N\\AppData\\Roaming\\nltk_data...\n",
            "[nltk_data]    |   Package pe08 is already up-to-date!\n",
            "[nltk_data]    | Downloading package perluniprops to C:\\Users\\Zul\n",
            "[nltk_data]    |     Fikri Hamdi A N\\AppData\\Roaming\\nltk_data...\n",
            "[nltk_data]    |   Package perluniprops is already up-to-date!\n",
            "[nltk_data]    | Downloading package pil to C:\\Users\\Zul Fikri Hamdi A\n",
            "[nltk_data]    |     N\\AppData\\Roaming\\nltk_data...\n",
            "[nltk_data]    |   Package pil is already up-to-date!\n",
            "[nltk_data]    | Downloading package pl196x to C:\\Users\\Zul Fikri\n",
            "[nltk_data]    |     Hamdi A N\\AppData\\Roaming\\nltk_data...\n",
            "[nltk_data]    |   Package pl196x is already up-to-date!\n",
            "[nltk_data]    | Downloading package porter_test to C:\\Users\\Zul Fikri\n",
            "[nltk_data]    |     Hamdi A N\\AppData\\Roaming\\nltk_data...\n",
            "[nltk_data]    |   Package porter_test is already up-to-date!\n",
            "[nltk_data]    | Downloading package ppattach to C:\\Users\\Zul Fikri\n",
            "[nltk_data]    |     Hamdi A N\\AppData\\Roaming\\nltk_data...\n",
            "[nltk_data]    |   Package ppattach is already up-to-date!\n",
            "[nltk_data]    | Downloading package problem_reports to C:\\Users\\Zul\n",
            "[nltk_data]    |     Fikri Hamdi A N\\AppData\\Roaming\\nltk_data...\n",
            "[nltk_data]    |   Package problem_reports is already up-to-date!\n",
            "[nltk_data]    | Downloading package product_reviews_1 to C:\\Users\\Zul\n",
            "[nltk_data]    |     Fikri Hamdi A N\\AppData\\Roaming\\nltk_data...\n",
            "[nltk_data]    |   Package product_reviews_1 is already up-to-date!\n",
            "[nltk_data]    | Downloading package product_reviews_2 to C:\\Users\\Zul\n",
            "[nltk_data]    |     Fikri Hamdi A N\\AppData\\Roaming\\nltk_data...\n",
            "[nltk_data]    |   Package product_reviews_2 is already up-to-date!\n",
            "[nltk_data]    | Downloading package propbank to C:\\Users\\Zul Fikri\n",
            "[nltk_data]    |     Hamdi A N\\AppData\\Roaming\\nltk_data...\n",
            "[nltk_data]    |   Package propbank is already up-to-date!\n",
            "[nltk_data]    | Downloading package pros_cons to C:\\Users\\Zul Fikri\n",
            "[nltk_data]    |     Hamdi A N\\AppData\\Roaming\\nltk_data...\n",
            "[nltk_data]    |   Package pros_cons is already up-to-date!\n",
            "[nltk_data]    | Downloading package ptb to C:\\Users\\Zul Fikri Hamdi A\n",
            "[nltk_data]    |     N\\AppData\\Roaming\\nltk_data...\n",
            "[nltk_data]    |   Package ptb is already up-to-date!\n",
            "[nltk_data]    | Downloading package punkt to C:\\Users\\Zul Fikri Hamdi\n",
            "[nltk_data]    |     A N\\AppData\\Roaming\\nltk_data...\n",
            "[nltk_data]    |   Package punkt is already up-to-date!\n",
            "[nltk_data]    | Downloading package punkt_tab to C:\\Users\\Zul Fikri\n",
            "[nltk_data]    |     Hamdi A N\\AppData\\Roaming\\nltk_data...\n",
            "[nltk_data]    |   Package punkt_tab is already up-to-date!\n",
            "[nltk_data]    | Downloading package qc to C:\\Users\\Zul Fikri Hamdi A\n",
            "[nltk_data]    |     N\\AppData\\Roaming\\nltk_data...\n",
            "[nltk_data]    |   Package qc is already up-to-date!\n",
            "[nltk_data]    | Downloading package reuters to C:\\Users\\Zul Fikri\n",
            "[nltk_data]    |     Hamdi A N\\AppData\\Roaming\\nltk_data...\n",
            "[nltk_data]    |   Package reuters is already up-to-date!\n",
            "[nltk_data]    | Downloading package rslp to C:\\Users\\Zul Fikri Hamdi\n",
            "[nltk_data]    |     A N\\AppData\\Roaming\\nltk_data...\n",
            "[nltk_data]    |   Package rslp is already up-to-date!\n",
            "[nltk_data]    | Downloading package rte to C:\\Users\\Zul Fikri Hamdi A\n",
            "[nltk_data]    |     N\\AppData\\Roaming\\nltk_data...\n",
            "[nltk_data]    |   Package rte is already up-to-date!\n",
            "[nltk_data]    | Downloading package sample_grammars to C:\\Users\\Zul\n",
            "[nltk_data]    |     Fikri Hamdi A N\\AppData\\Roaming\\nltk_data...\n",
            "[nltk_data]    |   Package sample_grammars is already up-to-date!\n",
            "[nltk_data]    | Downloading package semcor to C:\\Users\\Zul Fikri\n",
            "[nltk_data]    |     Hamdi A N\\AppData\\Roaming\\nltk_data...\n",
            "[nltk_data]    |   Package semcor is already up-to-date!\n",
            "[nltk_data]    | Downloading package senseval to C:\\Users\\Zul Fikri\n",
            "[nltk_data]    |     Hamdi A N\\AppData\\Roaming\\nltk_data...\n",
            "[nltk_data]    |   Package senseval is already up-to-date!\n",
            "[nltk_data]    | Downloading package sentence_polarity to C:\\Users\\Zul\n",
            "[nltk_data]    |     Fikri Hamdi A N\\AppData\\Roaming\\nltk_data...\n",
            "[nltk_data]    |   Package sentence_polarity is already up-to-date!\n",
            "[nltk_data]    | Downloading package sentiwordnet to C:\\Users\\Zul\n",
            "[nltk_data]    |     Fikri Hamdi A N\\AppData\\Roaming\\nltk_data...\n",
            "[nltk_data]    |   Package sentiwordnet is already up-to-date!\n",
            "[nltk_data]    | Downloading package shakespeare to C:\\Users\\Zul Fikri\n",
            "[nltk_data]    |     Hamdi A N\\AppData\\Roaming\\nltk_data...\n",
            "[nltk_data]    |   Package shakespeare is already up-to-date!\n",
            "[nltk_data]    | Downloading package sinica_treebank to C:\\Users\\Zul\n",
            "[nltk_data]    |     Fikri Hamdi A N\\AppData\\Roaming\\nltk_data...\n",
            "[nltk_data]    |   Package sinica_treebank is already up-to-date!\n",
            "[nltk_data]    | Downloading package smultron to C:\\Users\\Zul Fikri\n",
            "[nltk_data]    |     Hamdi A N\\AppData\\Roaming\\nltk_data...\n",
            "[nltk_data]    |   Package smultron is already up-to-date!\n",
            "[nltk_data]    | Downloading package snowball_data to C:\\Users\\Zul\n",
            "[nltk_data]    |     Fikri Hamdi A N\\AppData\\Roaming\\nltk_data...\n",
            "[nltk_data]    |   Package snowball_data is already up-to-date!\n",
            "[nltk_data]    | Downloading package spanish_grammars to C:\\Users\\Zul\n",
            "[nltk_data]    |     Fikri Hamdi A N\\AppData\\Roaming\\nltk_data...\n",
            "[nltk_data]    |   Package spanish_grammars is already up-to-date!\n",
            "[nltk_data]    | Downloading package state_union to C:\\Users\\Zul Fikri\n",
            "[nltk_data]    |     Hamdi A N\\AppData\\Roaming\\nltk_data...\n",
            "[nltk_data]    |   Package state_union is already up-to-date!\n",
            "[nltk_data]    | Downloading package stopwords to C:\\Users\\Zul Fikri\n",
            "[nltk_data]    |     Hamdi A N\\AppData\\Roaming\\nltk_data...\n",
            "[nltk_data]    |   Package stopwords is already up-to-date!\n",
            "[nltk_data]    | Downloading package subjectivity to C:\\Users\\Zul\n",
            "[nltk_data]    |     Fikri Hamdi A N\\AppData\\Roaming\\nltk_data...\n",
            "[nltk_data]    |   Package subjectivity is already up-to-date!\n",
            "[nltk_data]    | Downloading package swadesh to C:\\Users\\Zul Fikri\n",
            "[nltk_data]    |     Hamdi A N\\AppData\\Roaming\\nltk_data...\n",
            "[nltk_data]    |   Package swadesh is already up-to-date!\n",
            "[nltk_data]    | Downloading package switchboard to C:\\Users\\Zul Fikri\n",
            "[nltk_data]    |     Hamdi A N\\AppData\\Roaming\\nltk_data...\n",
            "[nltk_data]    |   Package switchboard is already up-to-date!\n",
            "[nltk_data]    | Downloading package tagsets to C:\\Users\\Zul Fikri\n",
            "[nltk_data]    |     Hamdi A N\\AppData\\Roaming\\nltk_data...\n",
            "[nltk_data]    |   Package tagsets is already up-to-date!\n",
            "[nltk_data]    | Downloading package tagsets_json to C:\\Users\\Zul\n",
            "[nltk_data]    |     Fikri Hamdi A N\\AppData\\Roaming\\nltk_data...\n",
            "[nltk_data]    |   Package tagsets_json is already up-to-date!\n",
            "[nltk_data]    | Downloading package timit to C:\\Users\\Zul Fikri Hamdi\n",
            "[nltk_data]    |     A N\\AppData\\Roaming\\nltk_data...\n",
            "[nltk_data]    |   Package timit is already up-to-date!\n",
            "[nltk_data]    | Downloading package toolbox to C:\\Users\\Zul Fikri\n",
            "[nltk_data]    |     Hamdi A N\\AppData\\Roaming\\nltk_data...\n",
            "[nltk_data]    |   Package toolbox is already up-to-date!\n",
            "[nltk_data]    | Downloading package treebank to C:\\Users\\Zul Fikri\n",
            "[nltk_data]    |     Hamdi A N\\AppData\\Roaming\\nltk_data...\n",
            "[nltk_data]    |   Package treebank is already up-to-date!\n",
            "[nltk_data]    | Downloading package twitter_samples to C:\\Users\\Zul\n",
            "[nltk_data]    |     Fikri Hamdi A N\\AppData\\Roaming\\nltk_data...\n",
            "[nltk_data]    |   Package twitter_samples is already up-to-date!\n",
            "[nltk_data]    | Downloading package udhr to C:\\Users\\Zul Fikri Hamdi\n",
            "[nltk_data]    |     A N\\AppData\\Roaming\\nltk_data...\n",
            "[nltk_data]    |   Package udhr is already up-to-date!\n",
            "[nltk_data]    | Downloading package udhr2 to C:\\Users\\Zul Fikri Hamdi\n",
            "[nltk_data]    |     A N\\AppData\\Roaming\\nltk_data...\n",
            "[nltk_data]    |   Package udhr2 is already up-to-date!\n",
            "[nltk_data]    | Downloading package unicode_samples to C:\\Users\\Zul\n",
            "[nltk_data]    |     Fikri Hamdi A N\\AppData\\Roaming\\nltk_data...\n",
            "[nltk_data]    |   Package unicode_samples is already up-to-date!\n",
            "[nltk_data]    | Downloading package universal_tagset to C:\\Users\\Zul\n",
            "[nltk_data]    |     Fikri Hamdi A N\\AppData\\Roaming\\nltk_data...\n",
            "[nltk_data]    |   Package universal_tagset is already up-to-date!\n",
            "[nltk_data]    | Downloading package universal_treebanks_v20 to\n",
            "[nltk_data]    |     C:\\Users\\Zul Fikri Hamdi A\n",
            "[nltk_data]    |     N\\AppData\\Roaming\\nltk_data...\n",
            "[nltk_data]    |   Package universal_treebanks_v20 is already up-to-\n",
            "[nltk_data]    |       date!\n",
            "[nltk_data]    | Downloading package vader_lexicon to C:\\Users\\Zul\n",
            "[nltk_data]    |     Fikri Hamdi A N\\AppData\\Roaming\\nltk_data...\n",
            "[nltk_data]    |   Package vader_lexicon is already up-to-date!\n",
            "[nltk_data]    | Downloading package verbnet to C:\\Users\\Zul Fikri\n",
            "[nltk_data]    |     Hamdi A N\\AppData\\Roaming\\nltk_data...\n",
            "[nltk_data]    |   Package verbnet is already up-to-date!\n",
            "[nltk_data]    | Downloading package verbnet3 to C:\\Users\\Zul Fikri\n",
            "[nltk_data]    |     Hamdi A N\\AppData\\Roaming\\nltk_data...\n",
            "[nltk_data]    |   Package verbnet3 is already up-to-date!\n",
            "[nltk_data]    | Downloading package webtext to C:\\Users\\Zul Fikri\n",
            "[nltk_data]    |     Hamdi A N\\AppData\\Roaming\\nltk_data...\n",
            "[nltk_data]    |   Package webtext is already up-to-date!\n",
            "[nltk_data]    | Downloading package wmt15_eval to C:\\Users\\Zul Fikri\n",
            "[nltk_data]    |     Hamdi A N\\AppData\\Roaming\\nltk_data...\n",
            "[nltk_data]    |   Package wmt15_eval is already up-to-date!\n",
            "[nltk_data]    | Downloading package word2vec_sample to C:\\Users\\Zul\n",
            "[nltk_data]    |     Fikri Hamdi A N\\AppData\\Roaming\\nltk_data...\n",
            "[nltk_data]    |   Package word2vec_sample is already up-to-date!\n",
            "[nltk_data]    | Downloading package wordnet to C:\\Users\\Zul Fikri\n",
            "[nltk_data]    |     Hamdi A N\\AppData\\Roaming\\nltk_data...\n",
            "[nltk_data]    |   Package wordnet is already up-to-date!\n",
            "[nltk_data]    | Downloading package wordnet2021 to C:\\Users\\Zul Fikri\n",
            "[nltk_data]    |     Hamdi A N\\AppData\\Roaming\\nltk_data...\n",
            "[nltk_data]    |   Package wordnet2021 is already up-to-date!\n",
            "[nltk_data]    | Downloading package wordnet2022 to C:\\Users\\Zul Fikri\n",
            "[nltk_data]    |     Hamdi A N\\AppData\\Roaming\\nltk_data...\n",
            "[nltk_data]    |   Package wordnet2022 is already up-to-date!\n",
            "[nltk_data]    | Downloading package wordnet31 to C:\\Users\\Zul Fikri\n",
            "[nltk_data]    |     Hamdi A N\\AppData\\Roaming\\nltk_data...\n",
            "[nltk_data]    |   Package wordnet31 is already up-to-date!\n",
            "[nltk_data]    | Downloading package wordnet_ic to C:\\Users\\Zul Fikri\n",
            "[nltk_data]    |     Hamdi A N\\AppData\\Roaming\\nltk_data...\n",
            "[nltk_data]    |   Package wordnet_ic is already up-to-date!\n",
            "[nltk_data]    | Downloading package words to C:\\Users\\Zul Fikri Hamdi\n",
            "[nltk_data]    |     A N\\AppData\\Roaming\\nltk_data...\n",
            "[nltk_data]    |   Package words is already up-to-date!\n",
            "[nltk_data]    | Downloading package ycoe to C:\\Users\\Zul Fikri Hamdi\n",
            "[nltk_data]    |     A N\\AppData\\Roaming\\nltk_data...\n",
            "[nltk_data]    |   Package ycoe is already up-to-date!\n",
            "[nltk_data]    | \n",
            "[nltk_data]  Done downloading collection all\n"
          ]
        },
        {
          "data": {
            "text/plain": [
              "True"
            ]
          },
          "execution_count": 154,
          "metadata": {},
          "output_type": "execute_result"
        }
      ],
      "source": [
        "nltk.download('all')"
      ]
    },
    {
      "cell_type": "code",
      "execution_count": null,
      "metadata": {
        "id": "58UKc0WZBwSX"
      },
      "outputs": [],
      "source": [
        "new_df['Text']=getTokenizedList(new_df)\n",
        "#new_df['Text']"
      ]
    },
    {
      "cell_type": "code",
      "execution_count": null,
      "metadata": {
        "id": "PzaRW2uOBwSZ"
      },
      "outputs": [],
      "source": [
        "X_train, X_test, Y_train, Y_test=train_test_split(new_df['Text'],new_df['Emotion'], test_size=.3,random_state=1)"
      ]
    },
    {
      "cell_type": "code",
      "execution_count": null,
      "metadata": {
        "id": "M2CNG1a1BwSa"
      },
      "outputs": [],
      "source": [
        "#Function to pass the list to the Tfidf vectorizer\n",
        "def returnPhrase(inputList):\n",
        "    return inputList\n"
      ]
    },
    {
      "cell_type": "code",
      "execution_count": null,
      "metadata": {
        "id": "jObkK8KnBwSb"
      },
      "outputs": [],
      "source": [
        "#Extracting features for Naive Bayes\n",
        "\n",
        "myVectorizer=TfidfVectorizer(analyzer='word',tokenizer=returnPhrase,preprocessor=returnPhrase,token_pattern=None,ngram_range=(1,3))\n",
        "myVectorizer.fit(X_train)\n",
        "transformedTrain=myVectorizer.transform(X_train).toarray()\n",
        "transformedTest=myVectorizer.transform(X_test).toarray()"
      ]
    },
    {
      "cell_type": "code",
      "execution_count": null,
      "metadata": {
        "colab": {
          "base_uri": "https://localhost:8080/"
        },
        "id": "gTAn1UVzBwSb",
        "outputId": "36739503-f590-4ed2-d2bf-57d9cf3058b1"
      },
      "outputs": [
        {
          "name": "stdout",
          "output_type": "stream",
          "text": [
            "Best Acc Naive Bayes\n",
            "0.5835920177383592\n"
          ]
        }
      ],
      "source": [
        "curAlpha=0.33 #smoothing factor in NB\n",
        "NBClassifier=MultinomialNB(alpha=curAlpha)\n",
        "NBClassifier.fit(transformedTrain,Y_train)\n",
        "myPredTest=NBClassifier.predict(transformedTest)\n",
        "print('Best Acc Naive Bayes')\n",
        "#print (curAlpha)\n",
        "print(np.sum(myPredTest==Y_test)/len(Y_test))\n"
      ]
    },
    {
      "cell_type": "code",
      "execution_count": null,
      "metadata": {
        "colab": {
          "base_uri": "https://localhost:8080/"
        },
        "id": "CnGyGIv9BwSd",
        "outputId": "b18097ad-4aa6-45bc-87d5-970d98f1e034"
      },
      "outputs": [
        {
          "name": "stdout",
          "output_type": "stream",
          "text": [
            "Metrics Classification Report : Naive Bayes\n",
            "              precision    recall  f1-score   support\n",
            "\n",
            "       anger       0.51      0.47      0.49       331\n",
            "     disgust       0.72      0.50      0.59       324\n",
            "        fear       0.62      0.70      0.66       311\n",
            "       guilt       0.43      0.62      0.51       299\n",
            "         joy       0.69      0.69      0.69       323\n",
            "     sadness       0.68      0.60      0.64       351\n",
            "       shame       0.52      0.51      0.52       316\n",
            "\n",
            "    accuracy                           0.58      2255\n",
            "   macro avg       0.60      0.58      0.58      2255\n",
            "weighted avg       0.60      0.58      0.59      2255\n",
            "\n"
          ]
        }
      ],
      "source": [
        "print('Metrics Classification Report : Naive Bayes')\n",
        "print(metrics.classification_report(Y_test, myPredTest))\n"
      ]
    },
    {
      "cell_type": "code",
      "execution_count": null,
      "metadata": {
        "id": "2a5Nnpt6BwSe"
      },
      "outputs": [],
      "source": [
        "myVectorizer=TfidfVectorizer(analyzer='word',tokenizer=returnPhrase,preprocessor=returnPhrase,token_pattern=None,ngram_range=(1,3))\n",
        "myVectorizer.fit(X_train)\n",
        "transformedTrain=myVectorizer.transform(X_train).toarray()\n",
        "transformedTest=myVectorizer.transform(X_test).toarray()"
      ]
    },
    {
      "cell_type": "code",
      "execution_count": null,
      "metadata": {
        "colab": {
          "base_uri": "https://localhost:8080/"
        },
        "id": "Kxr73-rrBwSe",
        "outputId": "e8f3eec7-3de0-48d1-a83e-758dffb18a63"
      },
      "outputs": [
        {
          "name": "stdout",
          "output_type": "stream",
          "text": [
            "Best Acc SVM\n",
            "0.6124168514412417\n"
          ]
        }
      ],
      "source": [
        "curC=2    #cost factor in SVM\n",
        "SVMClassifier=svm.LinearSVC(C=curC)\n",
        "SVMClassifier.fit(transformedTrain,Y_train)\n",
        "myPredTest=SVMClassifier.predict(transformedTest)\n",
        "print('Best Acc SVM')\n",
        "#print (curC)\n",
        "print(np.sum(myPredTest==Y_test)/len(Y_test))\n"
      ]
    },
    {
      "cell_type": "code",
      "execution_count": null,
      "metadata": {
        "colab": {
          "base_uri": "https://localhost:8080/"
        },
        "id": "9ZQSJuM1BwSf",
        "outputId": "3f32b493-fdf8-46e1-a463-b42571a53812"
      },
      "outputs": [
        {
          "name": "stdout",
          "output_type": "stream",
          "text": [
            "Metrics Classification Report : SVM\n",
            "              precision    recall  f1-score   support\n",
            "\n",
            "       anger       0.53      0.55      0.54       331\n",
            "     disgust       0.67      0.60      0.63       324\n",
            "        fear       0.65      0.72      0.69       311\n",
            "       guilt       0.50      0.56      0.53       299\n",
            "         joy       0.70      0.71      0.70       323\n",
            "     sadness       0.67      0.65      0.66       351\n",
            "       shame       0.56      0.50      0.53       316\n",
            "\n",
            "    accuracy                           0.61      2255\n",
            "   macro avg       0.61      0.61      0.61      2255\n",
            "weighted avg       0.61      0.61      0.61      2255\n",
            "\n"
          ]
        }
      ],
      "source": [
        "print('Metrics Classification Report : SVM')\n",
        "print(metrics. classification_report(Y_test, myPredTest))\n"
      ]
    },
    {
      "cell_type": "code",
      "execution_count": null,
      "metadata": {
        "id": "Gpmi4IFlBwSg"
      },
      "outputs": [],
      "source": [
        "#To predict the emotion of a sentence using Naive Bayes\n",
        "def predictSentNB(sent):\n",
        "    sentPred = NBClassifier.predict(myVectorizer. transform(transformSentence(sent)).toarray())\n",
        "    return sentPred\n"
      ]
    },
    {
      "cell_type": "code",
      "execution_count": null,
      "metadata": {
        "id": "JnKwzBbSBwSg"
      },
      "outputs": [],
      "source": [
        "#To predict the emotion of a sentence using Naive Bayes\n",
        "def predictSentSVM(sent):\n",
        "    sentPred = SVMClassifier.predict(myVectorizer. transform(transformSentence(sent)).toarray())\n",
        "    return sentPred\n"
      ]
    },
    {
      "cell_type": "code",
      "execution_count": null,
      "metadata": {
        "colab": {
          "base_uri": "https://localhost:8080/"
        },
        "id": "lH14xTAdBwSh",
        "outputId": "653faee3-22f2-4440-f798-3d4e5db5fb09"
      },
      "outputs": [
        {
          "name": "stdout",
          "output_type": "stream",
          "text": [
            "Navie bayes prediction\n",
            "['joy']\n",
            "SVM prediction\n",
            "['joy']\n"
          ]
        }
      ],
      "source": [
        "sent = \"I love you to the moon and back\"\n",
        "\n",
        "#Printing the predicted emotion\n",
        "print(\"Navie bayes prediction\")\n",
        "print(predictSentNB(sent))\n",
        "print(\"SVM prediction\")\n",
        "print(predictSentSVM(sent))\n"
      ]
    },
    {
      "cell_type": "code",
      "execution_count": null,
      "metadata": {
        "colab": {
          "base_uri": "https://localhost:8080/",
          "height": 619
        },
        "id": "5ZAZNc8HBwSi",
        "outputId": "236e2cc9-4e21-4b77-b419-23c99319c72b"
      },
      "outputs": [
        {
          "data": {
            "image/png": "[encoded data removed]",
            "text/plain": [
              "<Figure size 700x700 with 2 Axes>"
            ]
          },
          "metadata": {},
          "output_type": "display_data"
        }
      ],
      "source": [
        "#printing the Confusion Matrix\n",
        "\n",
        "from sklearn.metrics import confusion_matrix\n",
        "import seaborn as sns\n",
        "import matplotlib.pyplot as plt # Import matplotlib for plotting\n",
        "\n",
        "labels = ['anger','disgust','fear','guilt','joy','sadness','shame']\n",
        "cm = confusion_matrix(Y_test, myPredTest, labels=labels) # Pass labels as a keyword argument\n",
        "#print(cm)\n",
        "fig, ax = plt.subplots(figsize=(7,7))\n",
        "sns.heatmap(cm, annot=True,fmt='d',\n",
        "            xticklabels=labels, yticklabels=labels,cmap='Blues')\n",
        "plt.ylabel('Actual Emotions')\n",
        "plt.xlabel('Predicted Emotions')\n",
        "plt.show()"
      ]
    }
  ],
  "metadata": {
    "colab": {
      "provenance": []
    },
    "kernelspec": {
      "display_name": "Python 3",
      "language": "python",
      "name": "python3"
    },
    "language_info": {
      "codemirror_mode": {
        "name": "ipython",
        "version": 3
      },
      "file_extension": ".py",
      "mimetype": "text/x-python",
      "name": "python",
      "nbconvert_exporter": "python",
      "pygments_lexer": "ipython3",
      "version": "3.13.0"
    }
  },
  "nbformat": 4,
  "nbformat_minor": 0
}
